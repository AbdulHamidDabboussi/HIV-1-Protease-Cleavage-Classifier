{
  "nbformat": 4,
  "nbformat_minor": 0,
  "metadata": {
    "colab": {
      "name": "CS464_HW1_HIV_Naive_Bayes.ipynb",
      "provenance": [],
      "collapsed_sections": [],
      "authorship_tag": "ABX9TyNmTVxmyXWPJ9uMy1ZEQaBY",
      "include_colab_link": true
    },
    "kernelspec": {
      "name": "python3",
      "display_name": "Python 3"
    }
  },
  "cells": [
    {
      "cell_type": "markdown",
      "metadata": {
        "id": "view-in-github",
        "colab_type": "text"
      },
      "source": [
        "<a href=\"https://colab.research.google.com/github/AbdulHamidDabboussi/HIV-1-Protease-Cleavage-Classifier/blob/master/CS464_HW1_HIV_Naive_Bayes.ipynb\" target=\"_parent\"><img src=\"https://colab.research.google.com/assets/colab-badge.svg\" alt=\"Open In Colab\"/></a>"
      ]
    },
    {
      "cell_type": "markdown",
      "metadata": {
        "id": "mUzyAxQIAd2u",
        "colab_type": "text"
      },
      "source": [
        "# Mounting Drive and Accessing Files"
      ]
    },
    {
      "cell_type": "code",
      "metadata": {
        "id": "5-RecUDc_3F9",
        "colab_type": "code",
        "outputId": "1e1f6215-72a0-4afc-b24d-1d27bc2e5943",
        "colab": {
          "base_uri": "https://localhost:8080/",
          "height": 154
        }
      },
      "source": [
        "from google.colab import drive\n",
        "drive.mount('/gdrive')\n",
        "!ls /gdrive/My\\ Drive/Bilkent/Year\\ 3/CS464"
      ],
      "execution_count": 0,
      "outputs": [
        {
          "output_type": "stream",
          "text": [
            "Go to this URL in a browser: https://accounts.google.com/o/oauth2/auth?client_id=947318989803-6bn6qk8qdgf4n4g3pfee6491hc0brc4i.apps.googleusercontent.com&redirect_uri=urn%3aietf%3awg%3aoauth%3a2.0%3aoob&response_type=code&scope=email%20https%3a%2f%2fwww.googleapis.com%2fauth%2fdocs.test%20https%3a%2f%2fwww.googleapis.com%2fauth%2fdrive%20https%3a%2f%2fwww.googleapis.com%2fauth%2fdrive.photos.readonly%20https%3a%2f%2fwww.googleapis.com%2fauth%2fpeopleapi.readonly\n",
            "\n",
            "Enter your authorization code:\n",
            "··········\n",
            "Mounted at /gdrive\n",
            "hw3\t\tq2_dataset.mat\t     q2_test_set.txt\n",
            "q1_dataset.mat\tq2_gag_sequence.txt  q2_train_set.txt\n"
          ],
          "name": "stdout"
        }
      ]
    },
    {
      "cell_type": "markdown",
      "metadata": {
        "id": "EtE5pellCerx",
        "colab_type": "text"
      },
      "source": [
        "# Bernoulli Naive Bayes Model"
      ]
    },
    {
      "cell_type": "markdown",
      "metadata": {
        "id": "ONZgp8tlb2XV",
        "colab_type": "text"
      },
      "source": [
        "## Import Libraries"
      ]
    },
    {
      "cell_type": "code",
      "metadata": {
        "id": "Btba7tIDbmd3",
        "colab_type": "code",
        "colab": {}
      },
      "source": [
        "import os\n",
        "import numpy as np\n",
        "import matplotlib.pyplot as plt"
      ],
      "execution_count": 0,
      "outputs": []
    },
    {
      "cell_type": "markdown",
      "metadata": {
        "id": "1m3fCae-Fb8T",
        "colab_type": "text"
      },
      "source": [
        "## Question 3.1"
      ]
    },
    {
      "cell_type": "markdown",
      "metadata": {
        "id": "s5agvJSc5kOx",
        "colab_type": "text"
      },
      "source": [
        "### Calculate Parameters and MLEs"
      ]
    },
    {
      "cell_type": "code",
      "metadata": {
        "id": "UAe1yQzllQL8",
        "colab_type": "code",
        "colab": {}
      },
      "source": [
        "root = '/gdrive/My Drive/Bilkent/Year 3/CS464'\n",
        "train_path = os.path.join(root, 'q2_train_set.txt')\n",
        "\n",
        "y_0 = []\n",
        "y_1 = []\n",
        "\n",
        "with open(train_path, \"r\") as file:\n",
        "    for line in file:\n",
        "        current_line = line.split(\",\")\n",
        "        current_line = list(map(int, current_line))\n",
        "        if current_line[-1] == 0:\n",
        "            y_0.append(current_line)\n",
        "        else:\n",
        "            y_1.append(current_line)\n",
        "\n",
        "    y_0 = np.array(y_0)\n",
        "    y_1 = np.array(y_1)\n",
        "\n",
        "    n_0 = len(y_0)\n",
        "    n_1 = len(y_1)\n",
        "    n = n_0 + n_1\n",
        "    \n",
        "    prob_y_0 = n_0 / n # P(Y = 0)\n",
        "    prob_y_1 = n_1 / n # P(Y = 1)\n",
        "\n",
        "\n",
        "    t_0 = np.split(np.sum(y_0, 0)[:-1], 8)\n",
        "    t_1 = np.split(np.sum(y_1, 0)[:-1], 8)\n",
        "\n",
        "    #calculate P(Xj | Y = y)\n",
        "    theta_0 = np.divide(t_0, n_0)\n",
        "    theta_1 = np.divide(t_1, n_1)\n"
      ],
      "execution_count": 0,
      "outputs": []
    },
    {
      "cell_type": "markdown",
      "metadata": {
        "id": "89F6eh_a-Hqa",
        "colab_type": "text"
      },
      "source": [
        "### Naive Bayes Training and Testing"
      ]
    },
    {
      "cell_type": "markdown",
      "metadata": {
        "id": "qyTY_wf4DcEU",
        "colab_type": "text"
      },
      "source": [
        "Below, the MLEs prediously calculated in the above section on the training set will be used to predict results on the testing set. The accuracy of the model will be calculated and returned. "
      ]
    },
    {
      "cell_type": "code",
      "metadata": {
        "id": "BycHaMkVVYUn",
        "colab_type": "code",
        "outputId": "6baa3ad7-fa16-43f2-d253-884eb088eda3",
        "colab": {
          "base_uri": "https://localhost:8080/",
          "height": 118
        }
      },
      "source": [
        "def naive_bayes():\n",
        "    test_path = os.path.join(root, 'q2_test_set.txt')\n",
        "\n",
        "    test_set = []\n",
        "\n",
        "    with open(test_path, \"r\") as file:\n",
        "        for line in file:\n",
        "            current_line = line.split(\",\")\n",
        "            current_line = list(map(int, current_line))\n",
        "            test_set.append(current_line)\n",
        "\n",
        "    test_set = np.array(test_set)\n",
        "\n",
        "    predictions = []\n",
        "    actual = []\n",
        "\n",
        "    for sequence in test_set:\n",
        "        log_sum_0 = 0\n",
        "        log_sum_1 = 0\n",
        "        for i in range (0, 8):\n",
        "            for j in range (0, 20):\n",
        "                if sequence[j+20*i] == 1: \n",
        "                    log_sum_0 += np.log(theta_0[i][j])\n",
        "                    log_sum_1 += np.log(theta_1[i][j])\n",
        "        \n",
        "        if (np.log(prob_y_0) + log_sum_0 < np.log(prob_y_1) + log_sum_1):\n",
        "            predictions.append(1)\n",
        "        else:\n",
        "            predictions.append(0) \n",
        "        \n",
        "        actual.append(sequence[-1])\n",
        "   \n",
        "    correct = 0\n",
        "    TN = 0\n",
        "    TP = 0\n",
        "    FN = 0\n",
        "    FP = 0\n",
        "    for g_y, p_y in zip(actual, predictions):\n",
        "        if g_y == p_y: \n",
        "            correct += 1\n",
        "        if p_y == 0 and g_y == 0:\n",
        "            TN += 1\n",
        "        if p_y == 0 and g_y == 1:\n",
        "            FN += 1\n",
        "        if p_y == 1 and g_y == 0:\n",
        "            FP += 1\n",
        "        if p_y == 1 and g_y == 1:\n",
        "            TP += 1\n",
        "            \n",
        "\n",
        "    print(\"TN = \" + str(TN))\n",
        "    print(\"TP = \" + str(TP))\n",
        "    print(\"FN = \" + str(FN))\n",
        "    print(\"FP = \" + str(FP))\n",
        "    \n",
        "    return (np.around((correct/float(len(actual))*100), decimals = 2))\n",
        "\n",
        "print(\"Accuracy is: \" + str(naive_bayes()) + \"%\")"
      ],
      "execution_count": 0,
      "outputs": [
        {
          "output_type": "stream",
          "text": [
            "TN = 422\n",
            "TP = 79\n",
            "FN = 18\n",
            "FP = 9\n",
            "Accuracy is: 94.89%\n"
          ],
          "name": "stdout"
        },
        {
          "output_type": "stream",
          "text": [
            "/usr/local/lib/python3.6/dist-packages/ipykernel_launcher.py:24: RuntimeWarning: divide by zero encountered in log\n"
          ],
          "name": "stderr"
        }
      ]
    },
    {
      "cell_type": "markdown",
      "metadata": {
        "id": "i5S0IM4qlp_L",
        "colab_type": "text"
      },
      "source": [
        "The accuracy of testing the above model is 94.89%."
      ]
    },
    {
      "cell_type": "markdown",
      "metadata": {
        "id": "iyJV3cf8FyEw",
        "colab_type": "text"
      },
      "source": [
        "## Question 3.2"
      ]
    },
    {
      "cell_type": "markdown",
      "metadata": {
        "id": "HCfVkEhvfVDd",
        "colab_type": "text"
      },
      "source": [
        "### One-hot Encoding the Polyprotein"
      ]
    },
    {
      "cell_type": "markdown",
      "metadata": {
        "id": "-Z8dRSzJZHH5",
        "colab_type": "text"
      },
      "source": [
        "Below, the \"Group-specific antigen\" (gag) polyprotein sequence provided is transformed into a 493 x 160 sequence of ohe-hot encoded 8-*mers*"
      ]
    },
    {
      "cell_type": "code",
      "metadata": {
        "id": "VWOQB3eGF2Zq",
        "colab_type": "code",
        "colab": {}
      },
      "source": [
        "def gag_to_8_mer(file_path):\n",
        "    amino_acids = {'g': 0, 'p': 1, 'a': 2, 'v': 3, 'l': 4, 'i': 5, 'm': 6, 'c': 7, 'f': 8, 'y': 9, 'w': 10, 'h': 11, 'k': 12, 'r': 13, 'q': 14, 'n': 15, 'e': 16, 'd': 17, 's': 18, 't': 19}\n",
        "    sequences = np.zeros(shape = (493, 160), dtype = int)\n",
        "\n",
        "    \n",
        "    with open(file_path, \"r\") as file:\n",
        "        gag = file.read()\n",
        "        \n",
        "        #produce one-hot 8-mers from gag\n",
        "        for i in range(0, 493):\n",
        "            for c in range(0, 8):\n",
        "                sequences[i][20*c + amino_acids[gag[i+c].lower()]] = 1\n",
        "    return sequences"
      ],
      "execution_count": 0,
      "outputs": []
    },
    {
      "cell_type": "code",
      "metadata": {
        "id": "WVwHHZZwYsHv",
        "colab_type": "code",
        "colab": {}
      },
      "source": [
        "sequences = gag_to_8_mer(os.path.join(root, 'q2_gag_sequence.txt'))"
      ],
      "execution_count": 0,
      "outputs": []
    },
    {
      "cell_type": "markdown",
      "metadata": {
        "id": "8Oqt2qfUfftm",
        "colab_type": "text"
      },
      "source": [
        "### Applying Naive Bayes to Find Cleavage Location "
      ]
    },
    {
      "cell_type": "markdown",
      "metadata": {
        "id": "Xwcnie7ObUUS",
        "colab_type": "text"
      },
      "source": [
        "Next, the trained model is used to find all locations where HIV-1 PT would cleave the gag popyprotein."
      ]
    },
    {
      "cell_type": "code",
      "metadata": {
        "id": "ew3UciGKbygt",
        "colab_type": "code",
        "colab": {}
      },
      "source": [
        "def find_cleave(sequences):\n",
        "    predictions = []\n",
        "    psudo_probs_0 = [] #psudo probability that the model used to classify as 0\n",
        "    psudo_probs_1 = [] #psudo probability that the model used to classify as 1\n",
        "\n",
        "    for sequence in sequences:\n",
        "        log_sum_0 = 0\n",
        "        log_sum_1 = 0\n",
        "        for i in range (0, 8):\n",
        "            for j in range (0, 20):\n",
        "                if sequence[j+20*i] == 1: \n",
        "                    log_sum_0 += np.log(theta_0[i][j])\n",
        "                    log_sum_1 += np.log(theta_1[i][j])\n",
        "        \n",
        "        if (np.log(prob_y_0) + log_sum_0 < np.log(prob_y_1) + log_sum_1):\n",
        "            predictions.append(1)\n",
        "            psudo_probs_1.append(np.log(prob_y_1) + log_sum_1)\n",
        "        else:\n",
        "            predictions.append(0)\n",
        "            psudo_probs_0.append(np.log(prob_y_0) + log_sum_0)\n",
        "    \n",
        "    locations = []\n",
        "    for i in range(0, 493):\n",
        "        if predictions[i] == 1:\n",
        "            locations.append(str(i+3) + '-' + str(i+4))\n",
        "\n",
        "    return locations, psudo_probs_0, psudo_probs_1"
      ],
      "execution_count": 0,
      "outputs": []
    },
    {
      "cell_type": "code",
      "metadata": {
        "id": "MjH4Gmlica6H",
        "colab_type": "code",
        "outputId": "73a56195-e113-4e49-9f26-eef3f0f3ce77",
        "colab": {
          "base_uri": "https://localhost:8080/",
          "height": 87
        }
      },
      "source": [
        "locations, psudo_probs_0, psudo_probs_1 = find_cleave(sequences)\n",
        "print(locations)"
      ],
      "execution_count": 0,
      "outputs": [
        {
          "output_type": "stream",
          "text": [
            "['5-6', '42-43', '60-61', '79-80', '131-132', '183-184', '196-197', '215-216', '295-296', '315-316', '320-321', '341-342', '342-343', '362-363', '366-367', '376-377', '447-448', '465-466', '467-468', '482-483']\n"
          ],
          "name": "stdout"
        },
        {
          "output_type": "stream",
          "text": [
            "/usr/local/lib/python3.6/dist-packages/ipykernel_launcher.py:13: RuntimeWarning: divide by zero encountered in log\n",
            "  del sys.path[0]\n"
          ],
          "name": "stderr"
        }
      ]
    },
    {
      "cell_type": "markdown",
      "metadata": {
        "id": "dk3I8QsImQsK",
        "colab_type": "text"
      },
      "source": [
        "Above, the cleaves found are printed."
      ]
    },
    {
      "cell_type": "markdown",
      "metadata": {
        "id": "pGnEfumffGbL",
        "colab_type": "text"
      },
      "source": [
        "## Question 3.3"
      ]
    },
    {
      "cell_type": "markdown",
      "metadata": {
        "id": "tEe7jQBv1Oti",
        "colab_type": "text"
      },
      "source": [
        "### 8-mer Generation"
      ]
    },
    {
      "cell_type": "markdown",
      "metadata": {
        "id": "zgDc8nzT0-PV",
        "colab_type": "text"
      },
      "source": [
        "Below, the 8-mer assigned to class 1 with highest probability and the 8-mer assigned to class 0 with the lowest probability are both generated."
      ]
    },
    {
      "cell_type": "code",
      "metadata": {
        "id": "bujdFjOUrXt0",
        "colab_type": "code",
        "colab": {}
      },
      "source": [
        "def generate_sequence():\n",
        "    amino_acids = ['g', 'p', 'a', 'v', 'l', 'i', 'm', 'c', 'f', 'y', 'w', 'h', 'k', 'r', 'q', 'n', 'e', 'd', 's', 't']\n",
        "\n",
        "    max_sequence = np.argmax(theta_1, 1)\n",
        "    min_sequence = np.argmin(theta_0, 1)\n",
        "\n",
        "    generated_sequence_0 = \"\"\n",
        "    generated_sequence_1 = \"\"\n",
        "\n",
        "    for i in range (0, 8):\n",
        "        generated_sequence_0 += (amino_acids[min_sequence[i]])\n",
        "        generated_sequence_1 += (amino_acids[max_sequence[i]])\n",
        "\n",
        "    print(\"8-mer assigned to class 1 with max probability is: \" + generated_sequence_1.upper())\n",
        "    print(\"8-mer assigned to class 0 with min probability is: \"+ generated_sequence_0.upper())\n"
      ],
      "execution_count": 0,
      "outputs": []
    },
    {
      "cell_type": "code",
      "metadata": {
        "id": "pFuSHizLzSoN",
        "colab_type": "code",
        "outputId": "df5c37f3-a540-4594-cd9f-c344d0d56cd6",
        "colab": {
          "base_uri": "https://localhost:8080/",
          "height": 50
        }
      },
      "source": [
        "generate_sequence()"
      ],
      "execution_count": 0,
      "outputs": [
        {
          "output_type": "stream",
          "text": [
            "8-mer assigned to class 1 with max probability is: SAVLLEAT\n",
            "8-mer assigned to class 0 with min probability is: WWWWWWWW\n"
          ],
          "name": "stdout"
        }
      ]
    },
    {
      "cell_type": "markdown",
      "metadata": {
        "id": "DAQadH9T3s-g",
        "colab_type": "text"
      },
      "source": [
        "## Question 3.4"
      ]
    },
    {
      "cell_type": "markdown",
      "metadata": {
        "id": "JkZfwXpA3xR7",
        "colab_type": "text"
      },
      "source": [
        "### Naive Bayes With Laplase Smoothing"
      ]
    },
    {
      "cell_type": "markdown",
      "metadata": {
        "id": "5BHprX5_45ki",
        "colab_type": "text"
      },
      "source": [
        "In this section, Laplace smoothing will be used with different alpha values to learn MAP estimators. Essentially tweaking the previous model and contrasting the differences."
      ]
    },
    {
      "cell_type": "code",
      "metadata": {
        "id": "L6vpFRzB5SaQ",
        "colab_type": "code",
        "colab": {}
      },
      "source": [
        "def naive_bayes_laplace(alpha):\n",
        "\n",
        "    smooth_theta_0 = np.divide(np.add(t_0, alpha), n_0 + 2*alpha)\n",
        "    smooth_theta_1 = np.divide(np.add(t_1, alpha), n_1 + 2*alpha)\n",
        "    \n",
        "    test_path = os.path.join(root, 'q2_test_set.txt')\n",
        "\n",
        "    test_set = []\n",
        "\n",
        "    with open(test_path, \"r\") as file:\n",
        "        for line in file:\n",
        "            current_line = line.split(\",\")\n",
        "            current_line = list(map(int, current_line))\n",
        "            test_set.append(current_line)\n",
        "\n",
        "    test_set = np.array(test_set)\n",
        "\n",
        "    predictions = []\n",
        "    actual = []\n",
        "\n",
        "    for sequence in test_set:\n",
        "        log_sum_0 = 0\n",
        "        log_sum_1 = 0\n",
        "        for i in range (0, 8):\n",
        "            for j in range (0, 20):\n",
        "                if sequence[j+20*i] == 1: \n",
        "                    log_sum_0 += np.log(smooth_theta_0[i][j])\n",
        "                    log_sum_1 += np.log(smooth_theta_1[i][j])\n",
        "        \n",
        "        if (np.log(prob_y_0) + log_sum_0 < np.log(prob_y_1) + log_sum_1):\n",
        "            predictions.append(1)\n",
        "        else:\n",
        "            predictions.append(0) \n",
        "        \n",
        "        actual.append(sequence[-1])\n",
        "   \n",
        "    correct = 0\n",
        "    for g_y, p_y in zip(actual, predictions):\n",
        "        if g_y == p_y: \n",
        "            correct += 1\n",
        "            \n",
        "    return (np.around((correct/float(len(actual))*100), decimals=2))"
      ],
      "execution_count": 0,
      "outputs": []
    },
    {
      "cell_type": "markdown",
      "metadata": {
        "id": "KOFZz1trDwn4",
        "colab_type": "text"
      },
      "source": [
        "Now the accuracy with different alpha values is calculated and plotted"
      ]
    },
    {
      "cell_type": "code",
      "metadata": {
        "id": "50kB5bvs8ttS",
        "colab_type": "code",
        "outputId": "65ebca45-6fba-44e4-d2fd-ab4b9b529d7e",
        "colab": {
          "base_uri": "https://localhost:8080/",
          "height": 526
        }
      },
      "source": [
        "ls = []\n",
        "for alpha in range (0, 11):\n",
        "    ls.append(naive_bayes_laplace(alpha))\n",
        "    print(\"Accuracy for alpha = \" + str(alpha) + \" is: \" + str(naive_bayes_laplace(alpha)) + \"%\")\n",
        "\n",
        "plt.style.use(['dark_background'])\n",
        "plt.plot(ls, 'wo')\n",
        "plt.ylabel('Accuracy (%)')\n",
        "plt.xlabel('Alpha')\n",
        "plt.suptitle('Accuracy as a function of Alpha')\n",
        "plt.show"
      ],
      "execution_count": 0,
      "outputs": [
        {
          "output_type": "stream",
          "text": [
            "/usr/local/lib/python3.6/dist-packages/ipykernel_launcher.py:28: RuntimeWarning: divide by zero encountered in log\n"
          ],
          "name": "stderr"
        },
        {
          "output_type": "stream",
          "text": [
            "Accuracy for alpha = 0 is: 94.89%\n",
            "Accuracy for alpha = 1 is: 94.7%\n",
            "Accuracy for alpha = 2 is: 94.51%\n",
            "Accuracy for alpha = 3 is: 94.51%\n",
            "Accuracy for alpha = 4 is: 94.51%\n",
            "Accuracy for alpha = 5 is: 94.51%\n",
            "Accuracy for alpha = 6 is: 94.13%\n",
            "Accuracy for alpha = 7 is: 93.75%\n",
            "Accuracy for alpha = 8 is: 93.56%\n",
            "Accuracy for alpha = 9 is: 92.99%\n",
            "Accuracy for alpha = 10 is: 92.8%\n"
          ],
          "name": "stdout"
        },
        {
          "output_type": "execute_result",
          "data": {
            "text/plain": [
              "<function matplotlib.pyplot.show>"
            ]
          },
          "metadata": {
            "tags": []
          },
          "execution_count": 10
        },
        {
          "output_type": "display_data",
          "data": {
            "image/png": "[encoded data removed]",
            "text/plain": [
              "<Figure size 432x288 with 1 Axes>"
            ]
          },
          "metadata": {
            "tags": []
          }
        }
      ]
    },
    {
      "cell_type": "markdown",
      "metadata": {
        "id": "2A7xhyfxE2gJ",
        "colab_type": "text"
      },
      "source": [
        "As seen in the above graph, the test accuracy decreases as alpha values increase for sufficiently large train sets."
      ]
    },
    {
      "cell_type": "markdown",
      "metadata": {
        "id": "wpo32ZjAFHre",
        "colab_type": "text"
      },
      "source": [
        "Now, only 75 rows will be used to train the model."
      ]
    },
    {
      "cell_type": "code",
      "metadata": {
        "id": "ZGm11RFDFOPC",
        "colab_type": "code",
        "colab": {}
      },
      "source": [
        "def weak_naive_bayes(alpha):\n",
        "\n",
        "    y_0_small = []\n",
        "    y_1_small = []\n",
        "\n",
        "    i = 0\n",
        "    with open(train_path, \"r\") as file:\n",
        "        for line in file:\n",
        "            if (i >= 75):\n",
        "                break\n",
        "            i += 1\n",
        "            current_line = line.split(\",\")\n",
        "            current_line = list(map(int, current_line))\n",
        "            if current_line[-1] == 0:\n",
        "                y_0_small.append(current_line)\n",
        "            else:\n",
        "                y_1_small.append(current_line)\n",
        "\n",
        "    y_0_small = np.array(y_0_small)\n",
        "    y_1_small = np.array(y_1_small)\n",
        "    \n",
        "    n_0_small = len(y_0_small)\n",
        "    n_1_small = len(y_1_small)\n",
        "    n_small = n_0_small + n_1_small\n",
        "\n",
        "    prob_y_0 = n_0_small / n_small # P(Y = 0)\n",
        "    prob_y_1 = n_1_small / n_small # P(Y = 1)\n",
        "\n",
        "    t_0_small = np.split(np.sum(y_0_small, 0)[:-1], 8)\n",
        "    t_1_small = np.split(np.sum(y_1_small, 0)[:-1], 8)\n",
        "\n",
        "    #calculate P(Xj | Y = y)\n",
        "    smooth_theta_0 = np.divide(np.add(t_0_small, alpha), n_0_small + 2*alpha)\n",
        "    smooth_theta_1 = np.divide(np.add(t_1_small, alpha), n_1_small + 2*alpha)\n",
        "    \n",
        "    test_path = os.path.join(root, 'q2_test_set.txt')\n",
        "\n",
        "    test_set = []\n",
        "\n",
        "    with open(test_path, \"r\") as file:\n",
        "        for line in file:\n",
        "            current_line = line.split(\",\")\n",
        "            current_line = list(map(int, current_line))\n",
        "            test_set.append(current_line)\n",
        "\n",
        "    test_set = np.array(test_set)\n",
        "\n",
        "    predictions = []\n",
        "    actual = []\n",
        "\n",
        "    for sequence in test_set:\n",
        "        log_sum_0 = 0\n",
        "        log_sum_1 = 0\n",
        "        for i in range (0, 8):\n",
        "            for j in range (0, 20):\n",
        "                if sequence[j+20*i] == 1: \n",
        "                    log_sum_0 += np.log(smooth_theta_0[i][j])\n",
        "                    log_sum_1 += np.log(smooth_theta_1[i][j])\n",
        "        \n",
        "        if (np.log(prob_y_0) + log_sum_0 < np.log(prob_y_1) + log_sum_1):\n",
        "            predictions.append(1)\n",
        "        else:\n",
        "            predictions.append(0) \n",
        "        \n",
        "        actual.append(sequence[-1])\n",
        "   \n",
        "    correct = 0\n",
        "    for g_y, p_y in zip(actual, predictions):\n",
        "        if g_y == p_y: \n",
        "            correct += 1\n",
        "            \n",
        "    return (np.around((correct/float(len(actual))*100), decimals=2))"
      ],
      "execution_count": 0,
      "outputs": []
    },
    {
      "cell_type": "code",
      "metadata": {
        "id": "Sq2137ykGWU3",
        "colab_type": "code",
        "outputId": "558d5a33-2153-43be-a252-a4435d59cf8b",
        "colab": {
          "base_uri": "https://localhost:8080/",
          "height": 543
        }
      },
      "source": [
        "ls = []\n",
        "for alpha in range (0, 11):\n",
        "    ls.append(weak_naive_bayes(alpha))\n",
        "    print(\"Accuracy for alpha = \" + str(alpha) + \" is: \" + str(weak_naive_bayes(alpha)) + \"%\")\n",
        "\n",
        "plt.style.use(['dark_background'])\n",
        "plt.plot(ls, 'wo')\n",
        "plt.ylabel('Accuracy (%)')\n",
        "plt.xlabel('Alpha')\n",
        "plt.suptitle('Accuracy as a function of Alpha')\n",
        "plt.show"
      ],
      "execution_count": 0,
      "outputs": [
        {
          "output_type": "stream",
          "text": [
            "/usr/local/lib/python3.6/dist-packages/ipykernel_launcher.py:58: RuntimeWarning: divide by zero encountered in log\n",
            "/usr/local/lib/python3.6/dist-packages/ipykernel_launcher.py:57: RuntimeWarning: divide by zero encountered in log\n"
          ],
          "name": "stderr"
        },
        {
          "output_type": "stream",
          "text": [
            "Accuracy for alpha = 0 is: 84.85%\n",
            "Accuracy for alpha = 1 is: 48.3%\n",
            "Accuracy for alpha = 2 is: 24.81%\n",
            "Accuracy for alpha = 3 is: 18.75%\n",
            "Accuracy for alpha = 4 is: 18.56%\n",
            "Accuracy for alpha = 5 is: 18.37%\n",
            "Accuracy for alpha = 6 is: 18.37%\n",
            "Accuracy for alpha = 7 is: 18.37%\n",
            "Accuracy for alpha = 8 is: 18.37%\n",
            "Accuracy for alpha = 9 is: 18.37%\n",
            "Accuracy for alpha = 10 is: 18.37%\n"
          ],
          "name": "stdout"
        },
        {
          "output_type": "execute_result",
          "data": {
            "text/plain": [
              "<function matplotlib.pyplot.show>"
            ]
          },
          "metadata": {
            "tags": []
          },
          "execution_count": 45
        },
        {
          "output_type": "display_data",
          "data": {
            "image/png": "[encoded data removed]",
            "text/plain": [
              "<Figure size 432x288 with 1 Axes>"
            ]
          },
          "metadata": {
            "tags": []
          }
        }
      ]
    },
    {
      "cell_type": "markdown",
      "metadata": {
        "id": "2qxNVcBNVFPq",
        "colab_type": "text"
      },
      "source": [
        "***Q 3.4 NEEDS ANALYSIS SECTION REGARDING LAPLACE SMOOTHING***"
      ]
    },
    {
      "cell_type": "markdown",
      "metadata": {
        "id": "WC4N-6OIVPoj",
        "colab_type": "text"
      },
      "source": [
        "## Question 3.5"
      ]
    },
    {
      "cell_type": "markdown",
      "metadata": {
        "id": "u4q97b_rJGCa",
        "colab_type": "text"
      },
      "source": [
        "### Mutual Information"
      ]
    },
    {
      "cell_type": "markdown",
      "metadata": {
        "id": "7gG4jZ_AJ69Q",
        "colab_type": "text"
      },
      "source": [
        "Below, the mutual information between each of the 160 features and the labels in the training set will be calculated and sorted."
      ]
    },
    {
      "cell_type": "code",
      "metadata": {
        "id": "291s7r9cK-ym",
        "colab_type": "code",
        "colab": {}
      },
      "source": [
        "def mutual_information():\n",
        "    train_path = os.path.join(root, 'q2_train_set.txt')\n",
        "\n",
        "    y_0 = []\n",
        "    y_1 = []\n",
        "\n",
        "    with open(train_path, \"r\") as file:\n",
        "        for line in file:\n",
        "            current_line = line.split(\",\")\n",
        "            current_line = list(map(int, current_line))\n",
        "            if current_line[-1] == 0:\n",
        "                y_0.append(current_line[:-1])\n",
        "            else:\n",
        "                y_1.append(current_line[:-1])\n",
        "\n",
        "    y_0 = np.array(y_0)\n",
        "    y_1 = np.array(y_1)\n",
        "\n",
        "    #array of feature stats \n",
        "    N_10 = np.sum(y_0, 0)\n",
        "    N_11 = np.sum(y_1, 0)\n",
        "    N_00 = np.subtract(n_0, N_10)\n",
        "    N_01 = np.subtract(n_1, N_11)\n",
        "\n",
        "    #print(np.prod(N_00))\n",
        "    #print(np.prod(N_01))\n",
        "    # print(N_00)\n",
        "    # print(N_01)\n",
        "    # print(N_10)\n",
        "    # print(N_11)\n",
        "\n",
        "\n",
        "    mutual_information = np.add(np.add(np.multiply(np.divide(N_11, n), np.log2(np.divide(np.multiply(n, N_11), np.multiply((np.add(N_10, N_11)),(np.add(N_01, N_11)))))),\n",
        "                                       np.multiply(np.divide(N_01, n), np.log2(np.divide(np.multiply(n, N_01), np.multiply((np.add(N_00, N_01)),(np.add(N_01, N_11))))))),\n",
        "                                np.add(np.multiply(np.divide(N_10, n), np.log2(np.divide(np.multiply(n, N_10), np.multiply((np.add(N_10, N_11)),(np.add(N_00, N_10)))))),\n",
        "                                       np.multiply(np.divide(N_00, n), np.log2(np.divide(np.multiply(n, N_00), np.multiply((np.add(N_00, N_01)),(np.add(N_00, N_10))))))))\n",
        "    #print(type(mutual_information[0]) == np.float64)\n",
        "    for i in range(np.shape(mutual_information)[0]):\n",
        "        if (np.isnan(mutual_information[i])):\n",
        "            mutual_information[i] = np.inf\n",
        "            \n",
        "    sort_index = np.argsort(mutual_information)[::-1]\n",
        "    mutual_information = np.sort(mutual_information)[::-1]\n",
        "    return sort_index, mutual_information\n",
        "\n",
        "    \n"
      ],
      "execution_count": 0,
      "outputs": []
    },
    {
      "cell_type": "code",
      "metadata": {
        "id": "PFMJTEN4PxC2",
        "colab_type": "code",
        "outputId": "7db1a812-3378-4e5c-f2bd-28aa55bb9181",
        "colab": {
          "base_uri": "https://localhost:8080/",
          "height": 722
        }
      },
      "source": [
        "sort_index, mutual_information = mutual_information()"
      ],
      "execution_count": 0,
      "outputs": [
        {
          "output_type": "stream",
          "text": [
            "[1.49244680e-04 2.57799890e-02 2.24641345e-03 8.86961823e-03\n",
            " 7.85727339e-03 4.60604031e-03 9.94829482e-04 4.49260021e-05\n",
            " 1.63495273e-03 7.89346870e-04 9.57140774e-04 1.53083737e-05\n",
            " 3.99160574e-03 2.68828837e-07 1.96616807e-03 1.61561291e-03\n",
            " 1.61338015e-03 5.30599966e-05 2.27334229e-02 1.01913031e-05\n",
            " 1.03249522e-03 5.00086061e-03 6.92106728e-04 6.04098605e-03\n",
            " 7.66176745e-05 3.13301957e-03 2.35218010e-04 8.57458269e-06\n",
            " 4.79114545e-03 4.20423946e-05 5.29139286e-04 7.57155390e-05\n",
            " 2.13093624e-04 1.67450348e-02 3.88582210e-03 4.70335415e-03\n",
            " 8.59019756e-04 2.20671617e-04 2.58240832e-03 1.65098355e-03\n",
            " 8.01823055e-03 1.28619604e-02 4.94280290e-05 5.09553092e-02\n",
            " 4.09810515e-03 3.17690821e-03 9.06281518e-04 2.00540871e-05\n",
            " 1.64736549e-03 2.33431854e-03 1.10701533e-03 1.82889151e-03\n",
            "            inf 4.37598339e-03 8.65657781e-03 7.10481469e-03\n",
            " 4.13058248e-03 6.10523063e-05 9.85297800e-03 3.67873488e-08\n",
            " 3.80472925e-03            inf 2.56996797e-03 1.42758889e-02\n",
            " 3.04343234e-02 8.36724345e-03 1.04809541e-02 1.03407951e-03\n",
            " 2.83541810e-02 4.66218143e-02 2.53185682e-03 2.45907729e-03\n",
            " 1.16164509e-02 5.71535699e-04 8.40753376e-03 8.24980269e-04\n",
            " 5.85049605e-03 2.19882581e-03 1.14078711e-04 1.23794423e-02\n",
            " 1.05990279e-02 2.20229666e-03 1.09868283e-03 6.71637198e-03\n",
            " 1.88112708e-02 1.38433323e-04 7.69770409e-04 2.38517409e-03\n",
            " 1.72446726e-02 1.03127719e-02 2.55949331e-06 2.57893457e-03\n",
            " 1.08408408e-02 8.33424753e-04 6.32163346e-03 9.13472579e-03\n",
            " 5.31397350e-03 1.24807664e-02 7.31112443e-03 9.81177369e-04\n",
            " 1.45620893e-02 1.22990849e-02 6.64589362e-03 1.27377683e-02\n",
            " 1.01743131e-04 7.38220571e-03 7.01469477e-04 8.40605120e-04\n",
            " 2.62737489e-03 5.19089197e-03 1.94180970e-03 4.19335021e-03\n",
            " 8.65999978e-03 3.44195913e-03 4.86960178e-04 5.04106569e-03\n",
            " 2.74226705e-02 1.01221216e-02 4.75486836e-03 2.70451120e-05\n",
            " 2.50355408e-03 9.88034421e-03 1.99708321e-03 6.50314529e-05\n",
            " 5.74467930e-04 3.49336597e-06 2.67569411e-02 4.57093503e-04\n",
            " 1.02970679e-03 7.07368819e-04 3.93680619e-04 3.06736592e-05\n",
            " 4.48358172e-03 5.65755852e-07 2.25628094e-03 9.95307023e-04\n",
            " 3.48816614e-03 1.11081221e-05 4.79105715e-05 1.57251810e-05\n",
            " 5.33382322e-04 2.78708570e-03 4.36843791e-04 4.46738078e-03\n",
            " 1.53142947e-04 5.26852293e-04 6.87281093e-03 6.30166089e-04\n",
            " 3.12838199e-04 4.58251912e-03 1.94180970e-03 1.38485076e-04\n",
            " 9.76970271e-03 5.83194164e-03 4.45344157e-03 6.44152851e-04\n",
            " 9.57562082e-04 1.63344923e-05 2.26129759e-03 1.69400725e-02]\n"
          ],
          "name": "stdout"
        },
        {
          "output_type": "stream",
          "text": [
            "/usr/local/lib/python3.6/dist-packages/ipykernel_launcher.py:33: RuntimeWarning: divide by zero encountered in log2\n",
            "/usr/local/lib/python3.6/dist-packages/ipykernel_launcher.py:33: RuntimeWarning: invalid value encountered in multiply\n"
          ],
          "name": "stderr"
        }
      ]
    },
    {
      "cell_type": "markdown",
      "metadata": {
        "id": "xNR4UchK3Gf_",
        "colab_type": "text"
      },
      "source": [
        "Train the model using top k features found using mutual information.\n"
      ]
    },
    {
      "cell_type": "code",
      "metadata": {
        "id": "FmNQ2UD83e72",
        "colab_type": "code",
        "colab": {}
      },
      "source": [
        "def train_select_features(features):\n",
        "    t_0 = np.zeros(shape = (8, 20), dtype = int)\n",
        "    t_1 = np.zeros(shape = (8, 20), dtype = int)\n",
        "\n",
        "    #calculate T i,j,y=0\n",
        "    for sequence in range (0, n_0):\n",
        "        for i in range (0, 8):\n",
        "            for j in range (0, 20):\n",
        "                # if np.isin(j+20*i, features):\n",
        "                    if y_0[sequence][j+20*i] == 1:\n",
        "                        t_0[i][j] += 1\n",
        "    \n",
        "    #calculate T i,j,y=1\n",
        "    for sequence in range (0, n_1):\n",
        "        for i in range (0, 8):\n",
        "            for j in range (0, 20):\n",
        "                # if np.isin(j+20*i, features):\n",
        "                    if y_1[sequence][j+20*i] == 1:\n",
        "                        t_1[i][j] += 1\n",
        "\n",
        "\n",
        "    sum_t_0 = np.sum(t_0, 1)\n",
        "    sum_t_1 = np.sum(t_1, 1)\n",
        "    \n",
        "    theta_0 = np.zeros(shape = (8, 20))             \n",
        "    theta_1 = np.zeros(shape = (8, 20)) \n",
        "\n",
        "    #calculate P(Xj | Y = y)\n",
        "    for i in range (0, 8):\n",
        "        for j in range (0, 20):\n",
        "            theta_0[i][j] = np.divide(t_0[i][j], sum_t_0[i]) \n",
        "            theta_1[i][j] = np.divide(t_1[i][j], sum_t_1[i]) \n",
        "\n",
        "\n"
      ],
      "execution_count": 0,
      "outputs": []
    },
    {
      "cell_type": "markdown",
      "metadata": {
        "id": "zvmxNEAhW_O5",
        "colab_type": "text"
      },
      "source": [
        "Test the accuracy of the model with k features"
      ]
    },
    {
      "cell_type": "code",
      "metadata": {
        "id": "HnCTIwvl-DQo",
        "colab_type": "code",
        "colab": {}
      },
      "source": [
        "def test_features(features):\n",
        "   \n",
        "    predictions = []\n",
        "    actual = []\n",
        "\n",
        "    for sequence in test_set:\n",
        "        log_sum_0 = 0\n",
        "        log_sum_1 = 0\n",
        "        for i in range (0, 8):\n",
        "            for j in range (0, 20):\n",
        "                if np.isin(j+20*i, features):\n",
        "                    if sequence[j+20*i] == 1: \n",
        "                        log_sum_0 += np.log(theta_0[i][j])\n",
        "                        log_sum_1 += np.log(theta_1[i][j])\n",
        "        \n",
        "        if (np.log(prob_y_0) + log_sum_0 < np.log(prob_y_1) + log_sum_1):\n",
        "            predictions.append(1)\n",
        "        else:\n",
        "            predictions.append(0) \n",
        "        \n",
        "        actual.append(sequence[-1])\n",
        "   \n",
        "\n",
        "\n",
        "    correct = 0\n",
        "    for g_y, p_y in zip(actual, predictions):\n",
        "        if g_y == p_y: \n",
        "            correct += 1\n",
        "            \n",
        "    return (np.around((correct/float(len(actual))*100), decimals = 2))"
      ],
      "execution_count": 0,
      "outputs": []
    },
    {
      "cell_type": "markdown",
      "metadata": {
        "id": "26xZghipXFCt",
        "colab_type": "text"
      },
      "source": [
        "The below code section runs the code on different k values between 1 and 160 to determine the best k. This section takes ~60 seconds to execute."
      ]
    },
    {
      "cell_type": "code",
      "metadata": {
        "colab_type": "code",
        "outputId": "5206d8f2-9a6d-459b-c597-12c01fc8b37d",
        "id": "1jQJT40m9Vg9",
        "colab": {
          "base_uri": "https://localhost:8080/",
          "height": 1000
        }
      },
      "source": [
        "test_path = os.path.join(root, 'q2_test_set.txt')\n",
        "\n",
        "test_set = []\n",
        "\n",
        "with open(test_path, \"r\") as file:\n",
        "    for line in file:\n",
        "        current_line = line.split(\",\")\n",
        "        current_line = list(map(int, current_line))\n",
        "        test_set.append(current_line)\n",
        "\n",
        "test_set = np.array(test_set)\n",
        "accuracy_list = []\n",
        "for k in range(1, 161):\n",
        "    # train_select_features(sort_index[0:k])\n",
        "    acc = test_features(sort_index[0:k])\n",
        "    print(\"Accuracy for k = \" + str(k) + \" is: \" + str(acc) + \"%\")\n",
        "    accuracy_list.append(acc)"
      ],
      "execution_count": 0,
      "outputs": [
        {
          "output_type": "stream",
          "text": [
            "/usr/local/lib/python3.6/dist-packages/ipykernel_launcher.py:17: RuntimeWarning: divide by zero encountered in log\n"
          ],
          "name": "stderr"
        },
        {
          "output_type": "stream",
          "text": [
            "Accuracy for k = 1 is: 81.63%\n",
            "Accuracy for k = 2 is: 81.63%\n",
            "Accuracy for k = 3 is: 82.77%\n",
            "Accuracy for k = 4 is: 84.66%\n",
            "Accuracy for k = 5 is: 84.66%\n",
            "Accuracy for k = 6 is: 85.98%\n",
            "Accuracy for k = 7 is: 87.12%\n",
            "Accuracy for k = 8 is: 86.36%\n",
            "Accuracy for k = 9 is: 85.23%\n",
            "Accuracy for k = 10 is: 84.66%\n",
            "Accuracy for k = 11 is: 84.09%\n",
            "Accuracy for k = 12 is: 83.71%\n",
            "Accuracy for k = 13 is: 83.14%\n",
            "Accuracy for k = 14 is: 82.2%\n",
            "Accuracy for k = 15 is: 83.71%\n",
            "Accuracy for k = 16 is: 84.09%\n",
            "Accuracy for k = 17 is: 84.85%\n",
            "Accuracy for k = 18 is: 84.85%\n",
            "Accuracy for k = 19 is: 85.04%\n",
            "Accuracy for k = 20 is: 85.8%\n",
            "Accuracy for k = 21 is: 86.55%\n",
            "Accuracy for k = 22 is: 88.07%\n",
            "Accuracy for k = 23 is: 88.64%\n",
            "Accuracy for k = 24 is: 88.83%\n",
            "Accuracy for k = 25 is: 88.45%\n",
            "Accuracy for k = 26 is: 88.64%\n",
            "Accuracy for k = 27 is: 89.2%\n",
            "Accuracy for k = 28 is: 89.58%\n",
            "Accuracy for k = 29 is: 89.39%\n",
            "Accuracy for k = 30 is: 90.15%\n",
            "Accuracy for k = 31 is: 90.34%\n",
            "Accuracy for k = 32 is: 90.34%\n",
            "Accuracy for k = 33 is: 91.1%\n",
            "Accuracy for k = 34 is: 91.1%\n",
            "Accuracy for k = 35 is: 91.48%\n",
            "Accuracy for k = 36 is: 91.86%\n",
            "Accuracy for k = 37 is: 92.05%\n",
            "Accuracy for k = 38 is: 91.86%\n",
            "Accuracy for k = 39 is: 91.67%\n",
            "Accuracy for k = 40 is: 91.86%\n",
            "Accuracy for k = 41 is: 92.05%\n",
            "Accuracy for k = 42 is: 91.86%\n",
            "Accuracy for k = 43 is: 91.86%\n",
            "Accuracy for k = 44 is: 91.48%\n",
            "Accuracy for k = 45 is: 91.67%\n",
            "Accuracy for k = 46 is: 92.05%\n",
            "Accuracy for k = 47 is: 92.42%\n",
            "Accuracy for k = 48 is: 92.8%\n",
            "Accuracy for k = 49 is: 92.8%\n",
            "Accuracy for k = 50 is: 92.8%\n",
            "Accuracy for k = 51 is: 93.37%\n",
            "Accuracy for k = 52 is: 93.56%\n",
            "Accuracy for k = 53 is: 93.94%\n",
            "Accuracy for k = 54 is: 93.75%\n",
            "Accuracy for k = 55 is: 93.75%\n",
            "Accuracy for k = 56 is: 93.75%\n",
            "Accuracy for k = 57 is: 93.75%\n",
            "Accuracy for k = 58 is: 93.94%\n",
            "Accuracy for k = 59 is: 94.13%\n",
            "Accuracy for k = 60 is: 93.94%\n",
            "Accuracy for k = 61 is: 93.94%\n",
            "Accuracy for k = 62 is: 93.94%\n",
            "Accuracy for k = 63 is: 94.13%\n",
            "Accuracy for k = 64 is: 94.32%\n",
            "Accuracy for k = 65 is: 94.13%\n",
            "Accuracy for k = 66 is: 94.13%\n",
            "Accuracy for k = 67 is: 93.94%\n",
            "Accuracy for k = 68 is: 94.13%\n",
            "Accuracy for k = 69 is: 94.51%\n",
            "Accuracy for k = 70 is: 94.32%\n",
            "Accuracy for k = 71 is: 94.13%\n",
            "Accuracy for k = 72 is: 94.32%\n",
            "Accuracy for k = 73 is: 94.51%\n",
            "Accuracy for k = 74 is: 94.51%\n",
            "Accuracy for k = 75 is: 94.51%\n",
            "Accuracy for k = 76 is: 94.7%\n",
            "Accuracy for k = 77 is: 94.7%\n",
            "Accuracy for k = 78 is: 94.7%\n",
            "Accuracy for k = 79 is: 94.7%\n",
            "Accuracy for k = 80 is: 94.7%\n",
            "Accuracy for k = 81 is: 94.7%\n",
            "Accuracy for k = 82 is: 94.89%\n",
            "Accuracy for k = 83 is: 94.7%\n",
            "Accuracy for k = 84 is: 94.7%\n",
            "Accuracy for k = 85 is: 94.7%\n",
            "Accuracy for k = 86 is: 94.51%\n",
            "Accuracy for k = 87 is: 94.51%\n",
            "Accuracy for k = 88 is: 94.51%\n",
            "Accuracy for k = 89 is: 94.51%\n",
            "Accuracy for k = 90 is: 94.51%\n",
            "Accuracy for k = 91 is: 94.7%\n",
            "Accuracy for k = 92 is: 94.7%\n",
            "Accuracy for k = 93 is: 94.7%\n",
            "Accuracy for k = 94 is: 94.7%\n",
            "Accuracy for k = 95 is: 94.89%\n",
            "Accuracy for k = 96 is: 94.89%\n",
            "Accuracy for k = 97 is: 94.89%\n",
            "Accuracy for k = 98 is: 94.89%\n",
            "Accuracy for k = 99 is: 94.89%\n",
            "Accuracy for k = 100 is: 94.89%\n",
            "Accuracy for k = 101 is: 94.89%\n",
            "Accuracy for k = 102 is: 94.89%\n",
            "Accuracy for k = 103 is: 94.7%\n",
            "Accuracy for k = 104 is: 94.89%\n",
            "Accuracy for k = 105 is: 95.08%\n",
            "Accuracy for k = 106 is: 95.08%\n",
            "Accuracy for k = 107 is: 94.89%\n",
            "Accuracy for k = 108 is: 94.89%\n",
            "Accuracy for k = 109 is: 94.89%\n",
            "Accuracy for k = 110 is: 94.89%\n",
            "Accuracy for k = 111 is: 94.89%\n",
            "Accuracy for k = 112 is: 94.89%\n",
            "Accuracy for k = 113 is: 94.89%\n",
            "Accuracy for k = 114 is: 94.89%\n",
            "Accuracy for k = 115 is: 94.89%\n",
            "Accuracy for k = 116 is: 94.89%\n",
            "Accuracy for k = 117 is: 94.89%\n",
            "Accuracy for k = 118 is: 94.89%\n",
            "Accuracy for k = 119 is: 95.08%\n",
            "Accuracy for k = 120 is: 95.08%\n",
            "Accuracy for k = 121 is: 95.27%\n",
            "Accuracy for k = 122 is: 95.27%\n",
            "Accuracy for k = 123 is: 95.27%\n",
            "Accuracy for k = 124 is: 95.27%\n",
            "Accuracy for k = 125 is: 95.27%\n",
            "Accuracy for k = 126 is: 95.27%\n",
            "Accuracy for k = 127 is: 95.08%\n",
            "Accuracy for k = 128 is: 94.89%\n",
            "Accuracy for k = 129 is: 94.89%\n",
            "Accuracy for k = 130 is: 94.89%\n",
            "Accuracy for k = 131 is: 94.89%\n",
            "Accuracy for k = 132 is: 94.89%\n",
            "Accuracy for k = 133 is: 94.89%\n",
            "Accuracy for k = 134 is: 94.89%\n",
            "Accuracy for k = 135 is: 94.89%\n",
            "Accuracy for k = 136 is: 94.89%\n",
            "Accuracy for k = 137 is: 94.89%\n",
            "Accuracy for k = 138 is: 94.7%\n",
            "Accuracy for k = 139 is: 94.7%\n",
            "Accuracy for k = 140 is: 94.7%\n",
            "Accuracy for k = 141 is: 94.7%\n",
            "Accuracy for k = 142 is: 94.89%\n",
            "Accuracy for k = 143 is: 94.89%\n",
            "Accuracy for k = 144 is: 94.89%\n",
            "Accuracy for k = 145 is: 94.89%\n",
            "Accuracy for k = 146 is: 94.89%\n",
            "Accuracy for k = 147 is: 94.89%\n",
            "Accuracy for k = 148 is: 94.89%\n",
            "Accuracy for k = 149 is: 94.89%\n",
            "Accuracy for k = 150 is: 94.89%\n",
            "Accuracy for k = 151 is: 94.89%\n",
            "Accuracy for k = 152 is: 94.89%\n",
            "Accuracy for k = 153 is: 94.89%\n",
            "Accuracy for k = 154 is: 94.89%\n",
            "Accuracy for k = 155 is: 94.89%\n",
            "Accuracy for k = 156 is: 94.89%\n",
            "Accuracy for k = 157 is: 94.89%\n",
            "Accuracy for k = 158 is: 94.89%\n",
            "Accuracy for k = 159 is: 94.89%\n",
            "Accuracy for k = 160 is: 94.89%\n"
          ],
          "name": "stdout"
        }
      ]
    },
    {
      "cell_type": "code",
      "metadata": {
        "id": "zXAQx-PMvjkQ",
        "colab_type": "code",
        "outputId": "5c0584ce-e0bf-46b6-e7a3-8dc715c91d1f",
        "colab": {
          "base_uri": "https://localhost:8080/",
          "height": 34
        }
      },
      "source": [
        "result = np.argmax(accuracy_list)\n",
        "print(\"Max accuracy of \" + str(np.amax(accuracy_list)) + \"% was achieved at k = \" + str(result + 1))"
      ],
      "execution_count": 0,
      "outputs": [
        {
          "output_type": "stream",
          "text": [
            "Max accuracy of 95.27% was achieved at k = 121\n"
          ],
          "name": "stdout"
        }
      ]
    },
    {
      "cell_type": "markdown",
      "metadata": {
        "id": "HSNqnRXvTZ30",
        "colab_type": "text"
      },
      "source": [
        "Looking at the result above, and measuring accuracy to the second decimal place, the largest accuracy obtained is 95.27% for k values (121-126). Greater than the accuracy measured in part 3.1 at 94.89%. As such, taking the least of these k values, 121 would result in the highest accuracy - lowest training time combination."
      ]
    },
    {
      "cell_type": "markdown",
      "metadata": {
        "id": "YPRtLfSiWotg",
        "colab_type": "text"
      },
      "source": [
        "It is important to note, however, that going as low as k = 30 features will still result in greater than 90% accuracy."
      ]
    },
    {
      "cell_type": "markdown",
      "metadata": {
        "id": "5zD2G1DCvF6O",
        "colab_type": "text"
      },
      "source": [
        "## Question 3.6"
      ]
    },
    {
      "cell_type": "markdown",
      "metadata": {
        "id": "5gaehfYqvKCe",
        "colab_type": "text"
      },
      "source": [
        "### Principal Component Analysis"
      ]
    },
    {
      "cell_type": "markdown",
      "metadata": {
        "id": "fA0KBlBAvgRV",
        "colab_type": "text"
      },
      "source": [
        "In this part, Principal Component Analysis is applied in the dataset. Singular Value Decomposition (SVD) is used to calculate the Principle Components for efficiency."
      ]
    },
    {
      "cell_type": "code",
      "metadata": {
        "id": "TeiDWE-lwGJF",
        "colab_type": "code",
        "colab": {}
      },
      "source": [
        "def svd(X, k):\n",
        "    U, S, V_t = np.linalg.svd(X, full_matrices=False)\n",
        "    pve = np.divide((np.sum(np.square(S[:k]))), np.sum(np.square(S)))\n",
        "\n",
        "    print(\"PVE = \" + str(pve))\n",
        "    return np.dot(U[:, 0:k], np.diag(S)[0:k, 0:k])"
      ],
      "execution_count": 0,
      "outputs": []
    },
    {
      "cell_type": "code",
      "metadata": {
        "id": "gy-s4Outx1u2",
        "colab_type": "code",
        "outputId": "538eb0e7-a0c5-492b-dac5-7ef4125c1213",
        "colab": {
          "base_uri": "https://localhost:8080/",
          "height": 118
        }
      },
      "source": [
        "train_path = os.path.join(root, 'q2_train_set.txt')\n",
        "\n",
        "data_set = []\n",
        "y_t = [] #class 1\n",
        "y_f = [] #class 0\n",
        "\n",
        "with open(train_path, \"r\") as file:\n",
        "    for line in file:\n",
        "        current_line = line.split(\",\")\n",
        "        current_line = list(map(int, current_line))\n",
        "        data_set.append(current_line[:-1])\n",
        "        if current_line[-1] == 0:\n",
        "            y_f.append(current_line[:-1])\n",
        "        else:\n",
        "            y_t.append(current_line[:-1])\n",
        "        \n",
        "data_set = np.array(data_set)\n",
        "data_set = np.array(data_set)\n",
        "data_set = np.array(data_set)\n",
        "\n",
        "print(\"PCA on full Dataset\")\n",
        "data_set_PC = svd(data_set, 3)\n",
        "print(\"PCA on Class 0\")\n",
        "y_0_PC = svd(y_1, 3)\n",
        "print(\"PCA on Class 1\")\n",
        "y_1_PC = svd(y_t, 3)"
      ],
      "execution_count": 0,
      "outputs": [
        {
          "output_type": "stream",
          "text": [
            "PCA on full Dataset\n",
            "PVE = 0.11192559479979312\n",
            "PCA on Class 0\n",
            "PVE = 0.340538879074019\n",
            "PCA on Class 1\n",
            "PVE = 0.2627692148264629\n"
          ],
          "name": "stdout"
        }
      ]
    },
    {
      "cell_type": "markdown",
      "metadata": {
        "id": "QQx2xx0q8eb_",
        "colab_type": "text"
      },
      "source": [
        "Now that top 3 principal components have been identified and the dataset has been projected on a new space with 3 dimensions, the 3D scatterplot of the top 3 features of the 6062 polyprotein 8-mers is shows below."
      ]
    },
    {
      "cell_type": "code",
      "metadata": {
        "id": "jocFW64YDS-Q",
        "colab_type": "code",
        "outputId": "93eb4438-cbe2-4c78-a927-cd75b6203cff",
        "colab": {
          "base_uri": "https://localhost:8080/",
          "height": 454
        }
      },
      "source": [
        "fig = plt.figure()\n",
        "ax = fig.add_subplot(111, projection = '3d')\n",
        "\n",
        "axis = data_set_PC.T #if you want to plot the whole data as one\n",
        "axis_0 = y_0_PC.T\n",
        "axis_1 = y_1_PC.T\n",
        "\n",
        "\n",
        "ax.scatter(axis_0[0], axis_0[1], c='r', label = 'Class 0')\n",
        "ax.scatter(axis_1[0], axis_1[1], axis_1[2], c='b', label = 'Class 1')\n",
        "\n",
        "ax.set_xlabel('Feature 1')\n",
        "ax.set_ylabel('Feature 2')\n",
        "ax.set_zlabel('Feature 3')\n",
        "ax.legend()\n",
        "plt.suptitle('3D Plot of top 3 features from PCA')\n",
        "plt.style.use(['default'])\n",
        "plt.show()\n"
      ],
      "execution_count": 0,
      "outputs": [
        {
          "output_type": "display_data",
          "data": {
            "image/png": "[encoded data removed]",
            "text/plain": [
              "<Figure size 640x480 with 1 Axes>"
            ]
          },
          "metadata": {
            "tags": []
          }
        }
      ]
    },
    {
      "cell_type": "markdown",
      "metadata": {
        "id": "6UQYBvXrJo4O",
        "colab_type": "text"
      },
      "source": [
        "As seen above, the Proportion of Variance Explained (PVE) for the obtained principal components is 11% - very low. Which is to be expected because 160 features were reduced to only 3. Since the PVE is very low, applying PCA with only the top 3 PCs is not enough for the given dataset."
      ]
    }
  ]
}